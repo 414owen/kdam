{
 "cells": [
  {
   "cell_type": "code",
   "execution_count": null,
   "metadata": {},
   "outputs": [],
   "source": [
    "# cargo build -p notebook\n",
    "# cp target/debug/kdam_notebook.dll kdam/examples/notebook/kdam_notebook.pyd\n",
    "\n",
    "import kdam_notebook\n",
    "\n",
    "kdam_notebook.set_notebook(True)"
   ]
  },
  {
   "cell_type": "code",
   "execution_count": null,
   "metadata": {},
   "outputs": [],
   "source": [
    "kdam_notebook.compute()"
   ]
  },
  {
   "cell_type": "code",
   "execution_count": null,
   "metadata": {},
   "outputs": [],
   "source": [
    "from time import sleep\n",
    "from tqdm.notebook import tqdm\n",
    "\n",
    "pb = tqdm(total=300, mininterval=0.0)\n",
    "\n",
    "for _ in range(300):\n",
    "    sleep(0.02)\n",
    "    pb.update(1)"
   ]
  }
 ],
 "metadata": {
  "kernelspec": {
   "display_name": "Python 3 (ipykernel)",
   "language": "python",
   "name": "python3"
  },
  "language_info": {
   "codemirror_mode": {
    "name": "ipython",
    "version": 3
   },
   "file_extension": ".py",
   "mimetype": "text/x-python",
   "name": "python",
   "nbconvert_exporter": "python",
   "pygments_lexer": "ipython3",
   "version": "3.11.1"
  }
 },
 "nbformat": 4,
 "nbformat_minor": 4
}
